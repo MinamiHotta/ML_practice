{
 "cells": [
  {
   "cell_type": "markdown",
   "metadata": {},
   "source": [
    "参考：https://ai-inter1.com/python-selenium/"
   ]
  },
  {
   "cell_type": "code",
   "execution_count": 96,
   "metadata": {},
   "outputs": [],
   "source": [
    "# selenium 4\n",
    "from selenium import webdriver\n",
    "from selenium.webdriver.chrome.service import Service as ChromeService\n",
    "from webdriver_manager.chrome import ChromeDriverManager\n",
    "from webdriver_manager.core.os_manager import ChromeType\n",
    "# ウィンドウを起動しないヘッドレスモードで高速処理\n",
    "from selenium.webdriver.chrome.options import Options\n",
    " \n",
    "options = Options()\n",
    "# options.add_argument('--headless')\n",
    "\n",
    "driver = webdriver.Chrome(service=ChromeService(ChromeDriverManager().install()))"
   ]
  },
  {
   "cell_type": "code",
   "execution_count": 97,
   "metadata": {},
   "outputs": [],
   "source": [
    "driver.get('https://www.google.co.jp') # TODO: filepathは適宜変える\n",
    "from selenium.webdriver.common.by import By\n",
    "search_bar = driver.find_element(By.NAME, \"q\") # name属性で要素を検索する\n",
    "search_bar.send_keys(\"Bリーグ\") # 指定した要素にテキストを送る\n",
    "search_bar.submit()"
   ]
  },
  {
   "cell_type": "code",
   "execution_count": 58,
   "metadata": {},
   "outputs": [
    {
     "name": "stdout",
     "output_type": "stream",
     "text": [
      "B.LEAGUE（Bリーグ）公式サイト\n",
      "https://www.bleague.jp/\n",
      "Bリーグ - B1 - 日程・結果 - スポーツナビ - Yahoo! JAPAN\n",
      "https://sports.yahoo.co.jp/basket/bleague/b1/schedule\n",
      "B.LEAGUE（Bリーグ） (@B_LEAGUE) / ...\n",
      "https://twitter.com/B_LEAGUE\n",
      "B.LEAGUE - Japan Professional Basketball League\n",
      "https://www.youtube.com/channel/UC4NpGzqd6nnntf8ehYC50-A\n",
      "B.LEAGUEチケット\n",
      "https://bleague-ticket.psrv.jp/\n",
      "もっと見る\n",
      "https://www.google.co.jp/search?q=B%E3%83%AA%E3%83%BC%E3%82%B0&sca_esv=44ea0f439edf9d8f&ei=ZilAZo3oLeCTvr0Po66BqAQ&start=10&sa=N\n",
      "\n",
      "None\n"
     ]
    }
   ],
   "source": [
    "# a > h3で，aにurl，h3にタイトル\n",
    "for elem_h3 in driver.find_elements(By.XPATH, '//a/h3'): # 繰り返し等，複数回呼び出す場合，elementsと複数形に\n",
    "    elem_a = elem_h3.find_element(By.XPATH, '..')\n",
    "    print(elem_h3.text)\n",
    "    print(elem_a.get_attribute('href'))"
   ]
  },
  {
   "cell_type": "code",
   "execution_count": 55,
   "metadata": {},
   "outputs": [
    {
     "ename": "NoSuchElementException",
     "evalue": "Message: no such element: Unable to locate element: {\"method\":\"css selector\",\"selector\":\".RVQdVd\"}\n  (Session info: chrome=121.0.6167.185); For documentation on this error, please visit: https://www.selenium.dev/documentation/webdriver/troubleshooting/errors#no-such-element-exception\nStacktrace:\n\tGetHandleVerifier [0x0079E123+48179]\n\t(No symbol) [0x00725D01]\n\t(No symbol) [0x0060D72D]\n\t(No symbol) [0x0064572B]\n\t(No symbol) [0x0064586B]\n\t(No symbol) [0x0067C5B2]\n\t(No symbol) [0x00663CD4]\n\t(No symbol) [0x0067AA1E]\n\t(No symbol) [0x00663A26]\n\t(No symbol) [0x0063B7BC]\n\t(No symbol) [0x0063C62D]\n\tGetHandleVerifier [0x00AB7C33+3299139]\n\tGetHandleVerifier [0x00AF5BF2+3553026]\n\tGetHandleVerifier [0x00AF0BCC+3532508]\n\tGetHandleVerifier [0x0083494E+664670]\n\t(No symbol) [0x00730AB4]\n\t(No symbol) [0x0072BF08]\n\t(No symbol) [0x0072C02D]\n\t(No symbol) [0x0071DD00]\n\tBaseThreadInitThunk [0x75627BA9+25]\n\tRtlInitializeExceptionChain [0x7701BE3B+107]\n\tRtlClearBits [0x7701BDBF+191]\n",
     "output_type": "error",
     "traceback": [
      "\u001b[1;31m---------------------------------------------------------------------------\u001b[0m",
      "\u001b[1;31mNoSuchElementException\u001b[0m                    Traceback (most recent call last)",
      "Cell \u001b[1;32mIn[55], line 12\u001b[0m\n\u001b[0;32m      9\u001b[0m     \u001b[38;5;28mprint\u001b[39m(elem_h3\u001b[38;5;241m.\u001b[39mtext)\n\u001b[0;32m     10\u001b[0m     \u001b[38;5;28mprint\u001b[39m(elem_a\u001b[38;5;241m.\u001b[39mget_attribute(\u001b[38;5;124m'\u001b[39m\u001b[38;5;124mhref\u001b[39m\u001b[38;5;124m'\u001b[39m))\n\u001b[1;32m---> 12\u001b[0m next_link \u001b[38;5;241m=\u001b[39m \u001b[43mdriver\u001b[49m\u001b[38;5;241;43m.\u001b[39;49m\u001b[43mfind_element\u001b[49m\u001b[43m(\u001b[49m\u001b[43mBy\u001b[49m\u001b[38;5;241;43m.\u001b[39;49m\u001b[43mCLASS_NAME\u001b[49m\u001b[43m,\u001b[49m\u001b[43m \u001b[49m\u001b[38;5;124;43m'\u001b[39;49m\u001b[38;5;124;43mRVQdVd\u001b[39;49m\u001b[38;5;124;43m'\u001b[39;49m\u001b[43m)\u001b[49m\n\u001b[0;32m     13\u001b[0m driver\u001b[38;5;241m.\u001b[39mget(next_link\u001b[38;5;241m.\u001b[39mget_attribute(\u001b[38;5;124m'\u001b[39m\u001b[38;5;124mhref\u001b[39m\u001b[38;5;124m'\u001b[39m))\n",
      "File \u001b[1;32mc:\\Users\\hmina\\OneDrive\\デスクトップ\\tarantula\\env\\Lib\\site-packages\\selenium\\webdriver\\remote\\webdriver.py:741\u001b[0m, in \u001b[0;36mWebDriver.find_element\u001b[1;34m(self, by, value)\u001b[0m\n\u001b[0;32m    738\u001b[0m     by \u001b[38;5;241m=\u001b[39m By\u001b[38;5;241m.\u001b[39mCSS_SELECTOR\n\u001b[0;32m    739\u001b[0m     value \u001b[38;5;241m=\u001b[39m \u001b[38;5;124mf\u001b[39m\u001b[38;5;124m'\u001b[39m\u001b[38;5;124m[name=\u001b[39m\u001b[38;5;124m\"\u001b[39m\u001b[38;5;132;01m{\u001b[39;00mvalue\u001b[38;5;132;01m}\u001b[39;00m\u001b[38;5;124m\"\u001b[39m\u001b[38;5;124m]\u001b[39m\u001b[38;5;124m'\u001b[39m\n\u001b[1;32m--> 741\u001b[0m \u001b[38;5;28;01mreturn\u001b[39;00m \u001b[38;5;28;43mself\u001b[39;49m\u001b[38;5;241;43m.\u001b[39;49m\u001b[43mexecute\u001b[49m\u001b[43m(\u001b[49m\u001b[43mCommand\u001b[49m\u001b[38;5;241;43m.\u001b[39;49m\u001b[43mFIND_ELEMENT\u001b[49m\u001b[43m,\u001b[49m\u001b[43m \u001b[49m\u001b[43m{\u001b[49m\u001b[38;5;124;43m\"\u001b[39;49m\u001b[38;5;124;43musing\u001b[39;49m\u001b[38;5;124;43m\"\u001b[39;49m\u001b[43m:\u001b[49m\u001b[43m \u001b[49m\u001b[43mby\u001b[49m\u001b[43m,\u001b[49m\u001b[43m \u001b[49m\u001b[38;5;124;43m\"\u001b[39;49m\u001b[38;5;124;43mvalue\u001b[39;49m\u001b[38;5;124;43m\"\u001b[39;49m\u001b[43m:\u001b[49m\u001b[43m \u001b[49m\u001b[43mvalue\u001b[49m\u001b[43m}\u001b[49m\u001b[43m)\u001b[49m[\u001b[38;5;124m\"\u001b[39m\u001b[38;5;124mvalue\u001b[39m\u001b[38;5;124m\"\u001b[39m]\n",
      "File \u001b[1;32mc:\\Users\\hmina\\OneDrive\\デスクトップ\\tarantula\\env\\Lib\\site-packages\\selenium\\webdriver\\remote\\webdriver.py:347\u001b[0m, in \u001b[0;36mWebDriver.execute\u001b[1;34m(self, driver_command, params)\u001b[0m\n\u001b[0;32m    345\u001b[0m response \u001b[38;5;241m=\u001b[39m \u001b[38;5;28mself\u001b[39m\u001b[38;5;241m.\u001b[39mcommand_executor\u001b[38;5;241m.\u001b[39mexecute(driver_command, params)\n\u001b[0;32m    346\u001b[0m \u001b[38;5;28;01mif\u001b[39;00m response:\n\u001b[1;32m--> 347\u001b[0m     \u001b[38;5;28;43mself\u001b[39;49m\u001b[38;5;241;43m.\u001b[39;49m\u001b[43merror_handler\u001b[49m\u001b[38;5;241;43m.\u001b[39;49m\u001b[43mcheck_response\u001b[49m\u001b[43m(\u001b[49m\u001b[43mresponse\u001b[49m\u001b[43m)\u001b[49m\n\u001b[0;32m    348\u001b[0m     response[\u001b[38;5;124m\"\u001b[39m\u001b[38;5;124mvalue\u001b[39m\u001b[38;5;124m\"\u001b[39m] \u001b[38;5;241m=\u001b[39m \u001b[38;5;28mself\u001b[39m\u001b[38;5;241m.\u001b[39m_unwrap_value(response\u001b[38;5;241m.\u001b[39mget(\u001b[38;5;124m\"\u001b[39m\u001b[38;5;124mvalue\u001b[39m\u001b[38;5;124m\"\u001b[39m, \u001b[38;5;28;01mNone\u001b[39;00m))\n\u001b[0;32m    349\u001b[0m     \u001b[38;5;28;01mreturn\u001b[39;00m response\n",
      "File \u001b[1;32mc:\\Users\\hmina\\OneDrive\\デスクトップ\\tarantula\\env\\Lib\\site-packages\\selenium\\webdriver\\remote\\errorhandler.py:229\u001b[0m, in \u001b[0;36mErrorHandler.check_response\u001b[1;34m(self, response)\u001b[0m\n\u001b[0;32m    227\u001b[0m         alert_text \u001b[38;5;241m=\u001b[39m value[\u001b[38;5;124m\"\u001b[39m\u001b[38;5;124malert\u001b[39m\u001b[38;5;124m\"\u001b[39m]\u001b[38;5;241m.\u001b[39mget(\u001b[38;5;124m\"\u001b[39m\u001b[38;5;124mtext\u001b[39m\u001b[38;5;124m\"\u001b[39m)\n\u001b[0;32m    228\u001b[0m     \u001b[38;5;28;01mraise\u001b[39;00m exception_class(message, screen, stacktrace, alert_text)  \u001b[38;5;66;03m# type: ignore[call-arg]  # mypy is not smart enough here\u001b[39;00m\n\u001b[1;32m--> 229\u001b[0m \u001b[38;5;28;01mraise\u001b[39;00m exception_class(message, screen, stacktrace)\n",
      "\u001b[1;31mNoSuchElementException\u001b[0m: Message: no such element: Unable to locate element: {\"method\":\"css selector\",\"selector\":\".RVQdVd\"}\n  (Session info: chrome=121.0.6167.185); For documentation on this error, please visit: https://www.selenium.dev/documentation/webdriver/troubleshooting/errors#no-such-element-exception\nStacktrace:\n\tGetHandleVerifier [0x0079E123+48179]\n\t(No symbol) [0x00725D01]\n\t(No symbol) [0x0060D72D]\n\t(No symbol) [0x0064572B]\n\t(No symbol) [0x0064586B]\n\t(No symbol) [0x0067C5B2]\n\t(No symbol) [0x00663CD4]\n\t(No symbol) [0x0067AA1E]\n\t(No symbol) [0x00663A26]\n\t(No symbol) [0x0063B7BC]\n\t(No symbol) [0x0063C62D]\n\tGetHandleVerifier [0x00AB7C33+3299139]\n\tGetHandleVerifier [0x00AF5BF2+3553026]\n\tGetHandleVerifier [0x00AF0BCC+3532508]\n\tGetHandleVerifier [0x0083494E+664670]\n\t(No symbol) [0x00730AB4]\n\t(No symbol) [0x0072BF08]\n\t(No symbol) [0x0072C02D]\n\t(No symbol) [0x0071DD00]\n\tBaseThreadInitThunk [0x75627BA9+25]\n\tRtlInitializeExceptionChain [0x7701BE3B+107]\n\tRtlClearBits [0x7701BDBF+191]\n"
     ]
    }
   ],
   "source": [
    "# 2ページ以降も取得\n",
    "from time import sleep\n",
    "# 2ページ以降も表示\n",
    "page_num = 4\n",
    "for num in range(1, page_num):\n",
    "    sleep(1)\n",
    "    for elem_h3 in driver.find_elements(By.XPATH, '//a/h3'): # 繰り返し等，複数回呼び出す場合，elementsと複数形に\n",
    "        elem_a = elem_h3.find_element(By.XPATH, '..')\n",
    "        print(elem_h3.text)\n",
    "        print(elem_a.get_attribute('href'))\n",
    "        \n",
    "    next_link = driver.find_element(By.CLASS_NAME, 'RVQdVd')\n",
    "    driver.get(next_link.get_attribute('href'))"
   ]
  },
  {
   "cell_type": "code",
   "execution_count": 39,
   "metadata": {},
   "outputs": [
    {
     "data": {
      "text/plain": [
       "14"
      ]
     },
     "execution_count": 39,
     "metadata": {},
     "output_type": "execute_result"
    }
   ],
   "source": [
    "# CSVに保存\n",
    "import csv\n",
    "import datetime\n",
    "# 本日の日付を格納\n",
    "csv_date = datetime.datetime.today().strftime(\"%Y%m%d\")\n",
    "csv_file_name = f'google_python_{csv_date}.csv'\n",
    "f = open(csv_file_name, mode='w', encoding='cp932', errors='ignore') # ファイルを読み込むモードがw, Shift_JISの文字コードがcp932\n",
    "writer = csv.writer(f, lineterminator='\\n') # 書き込み, lineterminatorは改行方法\n",
    "csv_header = [\"検索順位\", \"URL\", \"サマリー\"]\n",
    "writer.writerow(csv_header) # 1行書き込み"
   ]
  },
  {
   "cell_type": "code",
   "execution_count": null,
   "metadata": {},
   "outputs": [],
   "source": [
    "# 参考\n",
    "search_bar.submit()\n",
    "\n",
    "#レシピのタイトルが表示されるまで待機\n",
    "wait = WebDriverWait(driver, 20)\n",
    "wait.until(EC.presence_of_element_located((By.CSS_SELECTOR, '.recipe-title')))\n",
    "# レシピのタイトルと概要をスクレイピングして、辞書形式で保存\n",
    "next_page_url = driver.find_elements(By.XPATH, '//*[@id=\"main\"]/div[1]/section[1]/main/div[1]/div/a')\n",
    "recipes = []\n",
    "num_do = 1\n",
    "#次のページが存在する限り実行\n",
    "while len(next_page_url) > 0:\n",
    "    #表示されているページのレシピ全て取得\n",
    "    recipe_list = driver.find_elements(By.XPATH, '//li[@class =\"recipe-preview\"]')\n",
    "    #次へボタンの取得(初回ver)\n",
    "    if num_do == 1:\n",
    "        button = driver.find_element(By.XPATH, '//*[@id=\"main\"]/div[1]/section[1]/main/div[1]/div/a')\n",
    "    #二回目以降\n",
    "    else:\n",
    "        button = driver.find_element(By.XPATH, '//*[@id=\"main\"]/div[1]/section[1]/main/div[1]/div/a[2]')\n",
    "    #レシピを一つずつ取得\n",
    "    for n in range(len(recipe_list)):\n",
    "        recipe = recipe_list[n] \n",
    "        #レシピのタイトルを取得　\n",
    "        title = recipe.find_element(By.CSS_SELECTOR, '.recipe-title').text\n",
    "        #レシピの概要を取得\n",
    "        description = recipe.find_elements(By.XPATH, '//div[@class = \"recipe-text\" or @class = \"recipe-text recipe-text-noimage\"]/div[@class= \"recipe_description\"]')[n].text\n",
    "        print(f'{num_do}: {title}:{description}')\n",
    "        recipes.append({'title': title, 'description': description})\n",
    "    #次へボタンをクリック\n",
    "    button.click()\n",
    "    #レシピのタイトルが表示されているため\n",
    "    wait.until(EC.presence_of_element_located((By.CSS_SELECTOR, '.recipe-title')))\n",
    "    #新しいページのURLの取得\n",
    "    cur_url = driver.current_url\n",
    "    driver.get(cur_url)   \n",
    "    #さらに次のページを取得\n",
    "    next_page_url = driver.find_elements(By.XPATH, '//*[@id=\"main\"]/div[1]/section[1]/main/div[1]/div/a[2]')\n",
    "    num_do += 1\n",
    "    if num_do == limit:\n",
    "        break\n",
    "#終了した時の合図　    \n",
    "else:\n",
    "    print(\"\\n\\n最後のページの処理が終わりました。\\n\\n\")\n",
    "\n",
    "# JSONファイルに出力\n",
    "with open(f'../data/recipes_{keyword}.json', 'w') as f:\n",
    "    json.dump(recipes, f, ensure_ascii=False, indent=4)\n",
    "\n",
    "# WebDriverを終了\n",
    "driver.close()"
   ]
  },
  {
   "cell_type": "code",
   "execution_count": 41,
   "metadata": {},
   "outputs": [
    {
     "ename": "NoSuchElementException",
     "evalue": "Message: no such element: Unable to locate element: {\"method\":\"css selector\",\"selector\":\"[id=\"pnnext\"]\"}\n  (Session info: chrome=121.0.6167.185); For documentation on this error, please visit: https://www.selenium.dev/documentation/webdriver/troubleshooting/errors#no-such-element-exception\nStacktrace:\n\tGetHandleVerifier [0x0079E123+48179]\n\t(No symbol) [0x00725D01]\n\t(No symbol) [0x0060D72D]\n\t(No symbol) [0x0064572B]\n\t(No symbol) [0x0064586B]\n\t(No symbol) [0x0067C5B2]\n\t(No symbol) [0x00663CD4]\n\t(No symbol) [0x0067AA1E]\n\t(No symbol) [0x00663A26]\n\t(No symbol) [0x0063B7BC]\n\t(No symbol) [0x0063C62D]\n\tGetHandleVerifier [0x00AB7C33+3299139]\n\tGetHandleVerifier [0x00AF5BF2+3553026]\n\tGetHandleVerifier [0x00AF0BCC+3532508]\n\tGetHandleVerifier [0x0083494E+664670]\n\t(No symbol) [0x00730AB4]\n\t(No symbol) [0x0072BF08]\n\t(No symbol) [0x0072C02D]\n\t(No symbol) [0x0071DD00]\n\tBaseThreadInitThunk [0x75627BA9+25]\n\tRtlInitializeExceptionChain [0x7701BE3B+107]\n\tRtlClearBits [0x7701BDBF+191]\n",
     "output_type": "error",
     "traceback": [
      "\u001b[1;31m---------------------------------------------------------------------------\u001b[0m",
      "\u001b[1;31mNoSuchElementException\u001b[0m                    Traceback (most recent call last)",
      "Cell \u001b[1;32mIn[41], line 16\u001b[0m\n\u001b[0;32m     14\u001b[0m     writer\u001b[38;5;241m.\u001b[39mwriterow(csvlist)\n\u001b[0;32m     15\u001b[0m     item \u001b[38;5;241m=\u001b[39m item \u001b[38;5;241m+\u001b[39m \u001b[38;5;241m1\u001b[39m\n\u001b[1;32m---> 16\u001b[0m next_link \u001b[38;5;241m=\u001b[39m \u001b[43mdriver\u001b[49m\u001b[38;5;241;43m.\u001b[39;49m\u001b[43mfind_element\u001b[49m\u001b[43m(\u001b[49m\u001b[43mBy\u001b[49m\u001b[38;5;241;43m.\u001b[39;49m\u001b[43mID\u001b[49m\u001b[43m,\u001b[49m\u001b[43m \u001b[49m\u001b[38;5;124;43m'\u001b[39;49m\u001b[38;5;124;43mpnnext\u001b[39;49m\u001b[38;5;124;43m'\u001b[39;49m\u001b[43m)\u001b[49m\n\u001b[0;32m     17\u001b[0m driver\u001b[38;5;241m.\u001b[39mget(next_link\u001b[38;5;241m.\u001b[39mget_attribute(\u001b[38;5;124m'\u001b[39m\u001b[38;5;124mhref\u001b[39m\u001b[38;5;124m'\u001b[39m))\n\u001b[0;32m     18\u001b[0m \u001b[38;5;28;01mif\u001b[39;00m i \u001b[38;5;241m>\u001b[39m \u001b[38;5;241m4\u001b[39m:\n",
      "File \u001b[1;32mc:\\Users\\hmina\\OneDrive\\デスクトップ\\tarantula\\env\\Lib\\site-packages\\selenium\\webdriver\\remote\\webdriver.py:741\u001b[0m, in \u001b[0;36mWebDriver.find_element\u001b[1;34m(self, by, value)\u001b[0m\n\u001b[0;32m    738\u001b[0m     by \u001b[38;5;241m=\u001b[39m By\u001b[38;5;241m.\u001b[39mCSS_SELECTOR\n\u001b[0;32m    739\u001b[0m     value \u001b[38;5;241m=\u001b[39m \u001b[38;5;124mf\u001b[39m\u001b[38;5;124m'\u001b[39m\u001b[38;5;124m[name=\u001b[39m\u001b[38;5;124m\"\u001b[39m\u001b[38;5;132;01m{\u001b[39;00mvalue\u001b[38;5;132;01m}\u001b[39;00m\u001b[38;5;124m\"\u001b[39m\u001b[38;5;124m]\u001b[39m\u001b[38;5;124m'\u001b[39m\n\u001b[1;32m--> 741\u001b[0m \u001b[38;5;28;01mreturn\u001b[39;00m \u001b[38;5;28;43mself\u001b[39;49m\u001b[38;5;241;43m.\u001b[39;49m\u001b[43mexecute\u001b[49m\u001b[43m(\u001b[49m\u001b[43mCommand\u001b[49m\u001b[38;5;241;43m.\u001b[39;49m\u001b[43mFIND_ELEMENT\u001b[49m\u001b[43m,\u001b[49m\u001b[43m \u001b[49m\u001b[43m{\u001b[49m\u001b[38;5;124;43m\"\u001b[39;49m\u001b[38;5;124;43musing\u001b[39;49m\u001b[38;5;124;43m\"\u001b[39;49m\u001b[43m:\u001b[49m\u001b[43m \u001b[49m\u001b[43mby\u001b[49m\u001b[43m,\u001b[49m\u001b[43m \u001b[49m\u001b[38;5;124;43m\"\u001b[39;49m\u001b[38;5;124;43mvalue\u001b[39;49m\u001b[38;5;124;43m\"\u001b[39;49m\u001b[43m:\u001b[49m\u001b[43m \u001b[49m\u001b[43mvalue\u001b[49m\u001b[43m}\u001b[49m\u001b[43m)\u001b[49m[\u001b[38;5;124m\"\u001b[39m\u001b[38;5;124mvalue\u001b[39m\u001b[38;5;124m\"\u001b[39m]\n",
      "File \u001b[1;32mc:\\Users\\hmina\\OneDrive\\デスクトップ\\tarantula\\env\\Lib\\site-packages\\selenium\\webdriver\\remote\\webdriver.py:347\u001b[0m, in \u001b[0;36mWebDriver.execute\u001b[1;34m(self, driver_command, params)\u001b[0m\n\u001b[0;32m    345\u001b[0m response \u001b[38;5;241m=\u001b[39m \u001b[38;5;28mself\u001b[39m\u001b[38;5;241m.\u001b[39mcommand_executor\u001b[38;5;241m.\u001b[39mexecute(driver_command, params)\n\u001b[0;32m    346\u001b[0m \u001b[38;5;28;01mif\u001b[39;00m response:\n\u001b[1;32m--> 347\u001b[0m     \u001b[38;5;28;43mself\u001b[39;49m\u001b[38;5;241;43m.\u001b[39;49m\u001b[43merror_handler\u001b[49m\u001b[38;5;241;43m.\u001b[39;49m\u001b[43mcheck_response\u001b[49m\u001b[43m(\u001b[49m\u001b[43mresponse\u001b[49m\u001b[43m)\u001b[49m\n\u001b[0;32m    348\u001b[0m     response[\u001b[38;5;124m\"\u001b[39m\u001b[38;5;124mvalue\u001b[39m\u001b[38;5;124m\"\u001b[39m] \u001b[38;5;241m=\u001b[39m \u001b[38;5;28mself\u001b[39m\u001b[38;5;241m.\u001b[39m_unwrap_value(response\u001b[38;5;241m.\u001b[39mget(\u001b[38;5;124m\"\u001b[39m\u001b[38;5;124mvalue\u001b[39m\u001b[38;5;124m\"\u001b[39m, \u001b[38;5;28;01mNone\u001b[39;00m))\n\u001b[0;32m    349\u001b[0m     \u001b[38;5;28;01mreturn\u001b[39;00m response\n",
      "File \u001b[1;32mc:\\Users\\hmina\\OneDrive\\デスクトップ\\tarantula\\env\\Lib\\site-packages\\selenium\\webdriver\\remote\\errorhandler.py:229\u001b[0m, in \u001b[0;36mErrorHandler.check_response\u001b[1;34m(self, response)\u001b[0m\n\u001b[0;32m    227\u001b[0m         alert_text \u001b[38;5;241m=\u001b[39m value[\u001b[38;5;124m\"\u001b[39m\u001b[38;5;124malert\u001b[39m\u001b[38;5;124m\"\u001b[39m]\u001b[38;5;241m.\u001b[39mget(\u001b[38;5;124m\"\u001b[39m\u001b[38;5;124mtext\u001b[39m\u001b[38;5;124m\"\u001b[39m)\n\u001b[0;32m    228\u001b[0m     \u001b[38;5;28;01mraise\u001b[39;00m exception_class(message, screen, stacktrace, alert_text)  \u001b[38;5;66;03m# type: ignore[call-arg]  # mypy is not smart enough here\u001b[39;00m\n\u001b[1;32m--> 229\u001b[0m \u001b[38;5;28;01mraise\u001b[39;00m exception_class(message, screen, stacktrace)\n",
      "\u001b[1;31mNoSuchElementException\u001b[0m: Message: no such element: Unable to locate element: {\"method\":\"css selector\",\"selector\":\"[id=\"pnnext\"]\"}\n  (Session info: chrome=121.0.6167.185); For documentation on this error, please visit: https://www.selenium.dev/documentation/webdriver/troubleshooting/errors#no-such-element-exception\nStacktrace:\n\tGetHandleVerifier [0x0079E123+48179]\n\t(No symbol) [0x00725D01]\n\t(No symbol) [0x0060D72D]\n\t(No symbol) [0x0064572B]\n\t(No symbol) [0x0064586B]\n\t(No symbol) [0x0067C5B2]\n\t(No symbol) [0x00663CD4]\n\t(No symbol) [0x0067AA1E]\n\t(No symbol) [0x00663A26]\n\t(No symbol) [0x0063B7BC]\n\t(No symbol) [0x0063C62D]\n\tGetHandleVerifier [0x00AB7C33+3299139]\n\tGetHandleVerifier [0x00AF5BF2+3553026]\n\tGetHandleVerifier [0x00AF0BCC+3532508]\n\tGetHandleVerifier [0x0083494E+664670]\n\t(No symbol) [0x00730AB4]\n\t(No symbol) [0x0072BF08]\n\t(No symbol) [0x0072C02D]\n\t(No symbol) [0x0071DD00]\n\tBaseThreadInitThunk [0x75627BA9+25]\n\tRtlInitializeExceptionChain [0x7701BE3B+107]\n\tRtlClearBits [0x7701BDBF+191]\n"
     ]
    }
   ],
   "source": [
    "# 書き込みコード # TODO: 修正\n",
    "i = 0\n",
    "item = 1\n",
    "while True:\n",
    "    i = i + 1\n",
    "    sleep(1)\n",
    "    for elem_h3 in driver.find_elements(By.XPATH, '//a/h3'):\n",
    "        elem_a = elem_h3.find_element(By.XPATH, '..')  \n",
    "        csvlist = []\n",
    "        # csvlist.append(str(item))で検索順位を、csvlist.append(elem_h3.text)でサイトタイトルを、csvlist.append(elem_a.get_attribute('href'))でURLを順にcsvlistに対して格納\n",
    "        csvlist.append(str(item))\n",
    "        csvlist.append(elem_h3.text)\n",
    "        csvlist.append(elem_a.get_attribute('href'))\n",
    "        writer.writerow(csvlist)\n",
    "        item = item + 1\n",
    "    next_link = driver.find_element(By.ID, 'pnnext')\n",
    "    driver.get(next_link.get_attribute('href'))\n",
    "    if i > 4:\n",
    "        break\n",
    "f.close() # ブラウザを閉じる"
   ]
  },
  {
   "cell_type": "code",
   "execution_count": 91,
   "metadata": {},
   "outputs": [
    {
     "name": "stdout",
     "output_type": "stream",
     "text": [
      "username\n",
      "password\n"
     ]
    },
    {
     "ename": "NoSuchElementException",
     "evalue": "Message: no such element: Unable to locate element: {\"method\":\"xpath\",\"selector\":\"//div[@roll=\"button\"]\"}\n  (Session info: chrome=121.0.6167.185); For documentation on this error, please visit: https://www.selenium.dev/documentation/webdriver/troubleshooting/errors#no-such-element-exception\nStacktrace:\n\tGetHandleVerifier [0x0079E123+48179]\n\t(No symbol) [0x00725D01]\n\t(No symbol) [0x0060D72D]\n\t(No symbol) [0x0064572B]\n\t(No symbol) [0x0064586B]\n\t(No symbol) [0x0067C5B2]\n\t(No symbol) [0x00663CD4]\n\t(No symbol) [0x0067AA1E]\n\t(No symbol) [0x00663A26]\n\t(No symbol) [0x0063B7BC]\n\t(No symbol) [0x0063C62D]\n\tGetHandleVerifier [0x00AB7C33+3299139]\n\tGetHandleVerifier [0x00AF5BF2+3553026]\n\tGetHandleVerifier [0x00AF0BCC+3532508]\n\tGetHandleVerifier [0x0083494E+664670]\n\t(No symbol) [0x00730AB4]\n\t(No symbol) [0x0072BF08]\n\t(No symbol) [0x0072C02D]\n\t(No symbol) [0x0071DD00]\n\tBaseThreadInitThunk [0x75627BA9+25]\n\tRtlInitializeExceptionChain [0x7701BE3B+107]\n\tRtlClearBits [0x7701BDBF+191]\n",
     "output_type": "error",
     "traceback": [
      "\u001b[1;31m---------------------------------------------------------------------------\u001b[0m",
      "\u001b[1;31mNoSuchElementException\u001b[0m                    Traceback (most recent call last)",
      "Cell \u001b[1;32mIn[91], line 23\u001b[0m\n\u001b[0;32m     19\u001b[0m \u001b[38;5;28mprint\u001b[39m(\u001b[38;5;124m\"\u001b[39m\u001b[38;5;124mpassword\u001b[39m\u001b[38;5;124m\"\u001b[39m)\n\u001b[0;32m     21\u001b[0m button\u001b[38;5;241m.\u001b[39mclick()\n\u001b[1;32m---> 23\u001b[0m login_info_notnow_button \u001b[38;5;241m=\u001b[39m \u001b[43mdriver\u001b[49m\u001b[38;5;241;43m.\u001b[39;49m\u001b[43mfind_element\u001b[49m\u001b[43m(\u001b[49m\u001b[43mBy\u001b[49m\u001b[38;5;241;43m.\u001b[39;49m\u001b[43mXPATH\u001b[49m\u001b[43m,\u001b[49m\u001b[43m \u001b[49m\u001b[38;5;124;43m'\u001b[39;49m\u001b[38;5;124;43m//div[@roll=\u001b[39;49m\u001b[38;5;124;43m\"\u001b[39;49m\u001b[38;5;124;43mbutton\u001b[39;49m\u001b[38;5;124;43m\"\u001b[39;49m\u001b[38;5;124;43m]\u001b[39;49m\u001b[38;5;124;43m'\u001b[39;49m\u001b[43m)\u001b[49m\n\u001b[0;32m     24\u001b[0m sleep(\u001b[38;5;241m1\u001b[39m)\n\u001b[0;32m     25\u001b[0m login_info_notnow_button\u001b[38;5;241m.\u001b[39mclick()\n",
      "File \u001b[1;32mc:\\Users\\hmina\\OneDrive\\デスクトップ\\tarantula\\env\\Lib\\site-packages\\selenium\\webdriver\\remote\\webdriver.py:741\u001b[0m, in \u001b[0;36mWebDriver.find_element\u001b[1;34m(self, by, value)\u001b[0m\n\u001b[0;32m    738\u001b[0m     by \u001b[38;5;241m=\u001b[39m By\u001b[38;5;241m.\u001b[39mCSS_SELECTOR\n\u001b[0;32m    739\u001b[0m     value \u001b[38;5;241m=\u001b[39m \u001b[38;5;124mf\u001b[39m\u001b[38;5;124m'\u001b[39m\u001b[38;5;124m[name=\u001b[39m\u001b[38;5;124m\"\u001b[39m\u001b[38;5;132;01m{\u001b[39;00mvalue\u001b[38;5;132;01m}\u001b[39;00m\u001b[38;5;124m\"\u001b[39m\u001b[38;5;124m]\u001b[39m\u001b[38;5;124m'\u001b[39m\n\u001b[1;32m--> 741\u001b[0m \u001b[38;5;28;01mreturn\u001b[39;00m \u001b[38;5;28;43mself\u001b[39;49m\u001b[38;5;241;43m.\u001b[39;49m\u001b[43mexecute\u001b[49m\u001b[43m(\u001b[49m\u001b[43mCommand\u001b[49m\u001b[38;5;241;43m.\u001b[39;49m\u001b[43mFIND_ELEMENT\u001b[49m\u001b[43m,\u001b[49m\u001b[43m \u001b[49m\u001b[43m{\u001b[49m\u001b[38;5;124;43m\"\u001b[39;49m\u001b[38;5;124;43musing\u001b[39;49m\u001b[38;5;124;43m\"\u001b[39;49m\u001b[43m:\u001b[49m\u001b[43m \u001b[49m\u001b[43mby\u001b[49m\u001b[43m,\u001b[49m\u001b[43m \u001b[49m\u001b[38;5;124;43m\"\u001b[39;49m\u001b[38;5;124;43mvalue\u001b[39;49m\u001b[38;5;124;43m\"\u001b[39;49m\u001b[43m:\u001b[49m\u001b[43m \u001b[49m\u001b[43mvalue\u001b[49m\u001b[43m}\u001b[49m\u001b[43m)\u001b[49m[\u001b[38;5;124m\"\u001b[39m\u001b[38;5;124mvalue\u001b[39m\u001b[38;5;124m\"\u001b[39m]\n",
      "File \u001b[1;32mc:\\Users\\hmina\\OneDrive\\デスクトップ\\tarantula\\env\\Lib\\site-packages\\selenium\\webdriver\\remote\\webdriver.py:347\u001b[0m, in \u001b[0;36mWebDriver.execute\u001b[1;34m(self, driver_command, params)\u001b[0m\n\u001b[0;32m    345\u001b[0m response \u001b[38;5;241m=\u001b[39m \u001b[38;5;28mself\u001b[39m\u001b[38;5;241m.\u001b[39mcommand_executor\u001b[38;5;241m.\u001b[39mexecute(driver_command, params)\n\u001b[0;32m    346\u001b[0m \u001b[38;5;28;01mif\u001b[39;00m response:\n\u001b[1;32m--> 347\u001b[0m     \u001b[38;5;28;43mself\u001b[39;49m\u001b[38;5;241;43m.\u001b[39;49m\u001b[43merror_handler\u001b[49m\u001b[38;5;241;43m.\u001b[39;49m\u001b[43mcheck_response\u001b[49m\u001b[43m(\u001b[49m\u001b[43mresponse\u001b[49m\u001b[43m)\u001b[49m\n\u001b[0;32m    348\u001b[0m     response[\u001b[38;5;124m\"\u001b[39m\u001b[38;5;124mvalue\u001b[39m\u001b[38;5;124m\"\u001b[39m] \u001b[38;5;241m=\u001b[39m \u001b[38;5;28mself\u001b[39m\u001b[38;5;241m.\u001b[39m_unwrap_value(response\u001b[38;5;241m.\u001b[39mget(\u001b[38;5;124m\"\u001b[39m\u001b[38;5;124mvalue\u001b[39m\u001b[38;5;124m\"\u001b[39m, \u001b[38;5;28;01mNone\u001b[39;00m))\n\u001b[0;32m    349\u001b[0m     \u001b[38;5;28;01mreturn\u001b[39;00m response\n",
      "File \u001b[1;32mc:\\Users\\hmina\\OneDrive\\デスクトップ\\tarantula\\env\\Lib\\site-packages\\selenium\\webdriver\\remote\\errorhandler.py:229\u001b[0m, in \u001b[0;36mErrorHandler.check_response\u001b[1;34m(self, response)\u001b[0m\n\u001b[0;32m    227\u001b[0m         alert_text \u001b[38;5;241m=\u001b[39m value[\u001b[38;5;124m\"\u001b[39m\u001b[38;5;124malert\u001b[39m\u001b[38;5;124m\"\u001b[39m]\u001b[38;5;241m.\u001b[39mget(\u001b[38;5;124m\"\u001b[39m\u001b[38;5;124mtext\u001b[39m\u001b[38;5;124m\"\u001b[39m)\n\u001b[0;32m    228\u001b[0m     \u001b[38;5;28;01mraise\u001b[39;00m exception_class(message, screen, stacktrace, alert_text)  \u001b[38;5;66;03m# type: ignore[call-arg]  # mypy is not smart enough here\u001b[39;00m\n\u001b[1;32m--> 229\u001b[0m \u001b[38;5;28;01mraise\u001b[39;00m exception_class(message, screen, stacktrace)\n",
      "\u001b[1;31mNoSuchElementException\u001b[0m: Message: no such element: Unable to locate element: {\"method\":\"xpath\",\"selector\":\"//div[@roll=\"button\"]\"}\n  (Session info: chrome=121.0.6167.185); For documentation on this error, please visit: https://www.selenium.dev/documentation/webdriver/troubleshooting/errors#no-such-element-exception\nStacktrace:\n\tGetHandleVerifier [0x0079E123+48179]\n\t(No symbol) [0x00725D01]\n\t(No symbol) [0x0060D72D]\n\t(No symbol) [0x0064572B]\n\t(No symbol) [0x0064586B]\n\t(No symbol) [0x0067C5B2]\n\t(No symbol) [0x00663CD4]\n\t(No symbol) [0x0067AA1E]\n\t(No symbol) [0x00663A26]\n\t(No symbol) [0x0063B7BC]\n\t(No symbol) [0x0063C62D]\n\tGetHandleVerifier [0x00AB7C33+3299139]\n\tGetHandleVerifier [0x00AF5BF2+3553026]\n\tGetHandleVerifier [0x00AF0BCC+3532508]\n\tGetHandleVerifier [0x0083494E+664670]\n\t(No symbol) [0x00730AB4]\n\t(No symbol) [0x0072BF08]\n\t(No symbol) [0x0072C02D]\n\t(No symbol) [0x0071DD00]\n\tBaseThreadInitThunk [0x75627BA9+25]\n\tRtlInitializeExceptionChain [0x7701BE3B+107]\n\tRtlClearBits [0x7701BDBF+191]\n"
     ]
    }
   ],
   "source": [
    "USERNAME = 'minami__sports'\n",
    "PASSWORD = '' # TODO: 自分で書く\n",
    "error_flag = False\n",
    "url = 'https://www.instagram.com/'\n",
    "driver.get(url)\n",
    "sleep(3) # Seleniumでブラウザ操作時に一定時間待つ\n",
    "\n",
    "username_input = driver.find_element(By.XPATH, '//input[@aria-label=\"電話番号、ユーザーネーム、メールアドレス\"]')\n",
    "password_input = driver.find_element(By.XPATH, '//input[@aria-label=\"パスワード\"]')\n",
    "button = driver.find_element(By.XPATH, '//*[@id=\"loginForm\"]/div/div[3]')\n",
    "sleep(3)\n",
    "\n",
    "username_input.send_keys(USERNAME)\n",
    "sleep(3)\n",
    "print(\"username\")\n",
    "\n",
    "password_input.send_keys(PASSWORD)\n",
    "sleep(3)\n",
    "print(\"password\")\n",
    "\n",
    "button.click()\n",
    "\n",
    "# TODO: 直せたら直す\n",
    "login_info_notnow_button = driver.find_element(By.XPATH, '//div[@roll=\"button\"]')\n",
    "sleep(1)\n",
    "login_info_notnow_button.click()\n",
    "sleep(1)\n",
    "\n",
    "notif_notnow_button = driver.find_element(By.XPATH, '//button[text()=\"後で]')\n",
    "sleep(1)\n",
    "notif_notnow_button.click()\n",
    "sleep(1)\n",
    "\n",
    "print(driver.title)"
   ]
  }
 ],
 "metadata": {
  "kernelspec": {
   "display_name": "env",
   "language": "python",
   "name": "python3"
  },
  "language_info": {
   "codemirror_mode": {
    "name": "ipython",
    "version": 3
   },
   "file_extension": ".py",
   "mimetype": "text/x-python",
   "name": "python",
   "nbconvert_exporter": "python",
   "pygments_lexer": "ipython3",
   "version": "3.11.9"
  }
 },
 "nbformat": 4,
 "nbformat_minor": 2
}
