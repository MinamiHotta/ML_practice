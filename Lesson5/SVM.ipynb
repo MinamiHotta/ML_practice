{
 "cells": [
  {
   "cell_type": "code",
   "execution_count": 4,
   "metadata": {},
   "outputs": [],
   "source": [
    "from sklearn import svm\n",
    "from sklearn.metrics import accuracy_score\n",
    "import numpy as np"
   ]
  },
  {
   "cell_type": "code",
   "execution_count": 5,
   "metadata": {},
   "outputs": [
    {
     "name": "stdout",
     "output_type": "stream",
     "text": [
      "42000\n",
      "18000\n",
      "10000\n"
     ]
    }
   ],
   "source": [
    "#学習データ\n",
    "x_train = np.load(r'C:\\Users\\hmina\\OneDrive\\デスクトップ\\tarantula\\practice\\Lesson5\\kmnist-train-imgs.npz')['arr_0']\n",
    "t_train = np.load(r'C:\\Users\\hmina\\OneDrive\\デスクトップ\\tarantula\\practice\\Lesson5\\kmnist-train-labels.npz')['arr_0']\n",
    "\n",
    "#テストデータ\n",
    "x_test = np.load(r'C:\\Users\\hmina\\OneDrive\\デスクトップ\\tarantula\\practice\\Lesson5\\kmnist-test-imgs.npz')['arr_0']\n",
    "t_test = np.load(r'C:\\Users\\hmina\\OneDrive\\デスクトップ\\tarantula\\practice\\Lesson5\\kmnist-test-labels.npz')['arr_0']\n",
    "\n",
    "# データの前処理（正規化)\n",
    "x_train, x_test = x_train / 255., x_test / 255.\n",
    "x_train, x_test = x_train.reshape(x_train.shape[0], -1), x_test.reshape(x_test.shape[0], -1) # 画像を1次元配列に変換\n",
    "\n",
    "from sklearn.model_selection import train_test_split\n",
    "# データの分割\n",
    "x_train, x_val, t_train, t_val = train_test_split(x_train, t_train, test_size=0.3, random_state=42)\n",
    "print(len(x_train))\n",
    "print(len(x_val))\n",
    "print(len(x_test))"
   ]
  },
  {
   "cell_type": "code",
   "execution_count": 6,
   "metadata": {},
   "outputs": [
    {
     "name": "stdout",
     "output_type": "stream",
     "text": [
      "Validation Accuracy: 0.835\n",
      "Test Accuracy: 0.720\n"
     ]
    }
   ],
   "source": [
    "# SVMモデルの作成と訓練(線形カーネル，正則化パラメータC)\n",
    "svm_model = svm.SVC(kernel='linear', C=1, decision_function_shape='ovr')  # 'ovr'はone-vs-restの略 #.to(device)すればGPU使えそう\n",
    "svm_model.fit(x_train, t_train)\n",
    "\n",
    "# 検証データでの評価\n",
    "t_val_pred = svm_model.predict(x_val)\n",
    "val_accuracy = accuracy_score(t_val, t_val_pred)\n",
    "print('Validation Accuracy: {:.3f}'.format(val_accuracy))\n",
    "\n",
    "# テストデータでの評価\n",
    "t_test_pred = svm_model.predict(x_test)\n",
    "test_accuracy = accuracy_score(t_test, t_test_pred)\n",
    "print('Test Accuracy: {:.3f}'.format(test_accuracy))"
   ]
  }
 ],
 "metadata": {
  "kernelspec": {
   "display_name": "env",
   "language": "python",
   "name": "python3"
  },
  "language_info": {
   "codemirror_mode": {
    "name": "ipython",
    "version": 3
   },
   "file_extension": ".py",
   "mimetype": "text/x-python",
   "name": "python",
   "nbconvert_exporter": "python",
   "pygments_lexer": "ipython3",
   "version": "3.11.9"
  }
 },
 "nbformat": 4,
 "nbformat_minor": 2
}
